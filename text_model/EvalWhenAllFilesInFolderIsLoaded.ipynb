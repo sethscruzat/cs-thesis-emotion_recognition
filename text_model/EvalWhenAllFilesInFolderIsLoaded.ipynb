{
 "cells": [
  {
   "cell_type": "code",
   "execution_count": null,
   "metadata": {
    "colab": {
     "base_uri": "https://localhost:8080/"
    },
    "executionInfo": {
     "elapsed": 26333,
     "status": "ok",
     "timestamp": 1740800229847,
     "user": {
      "displayName": "KIMBERLY TRIPULCA",
      "userId": "06264182523271799652"
     },
     "user_tz": -480
    },
    "id": "CKwd0mHMgSLh",
    "outputId": "e65d51a7-c6f0-4b24-a8c2-2b5ec1ced231"
   },
   "outputs": [
    {
     "name": "stdout",
     "output_type": "stream",
     "text": [
      "Mounted at /content/drive\n"
     ]
    }
   ],
   "source": [
    "from google.colab import drive\n",
    "drive.mount('/content/drive')"
   ]
  },
  {
   "cell_type": "code",
   "execution_count": 19,
   "metadata": {
    "colab": {
     "base_uri": "https://localhost:8080/"
    },
    "collapsed": true,
    "executionInfo": {
     "elapsed": 9324,
     "status": "ok",
     "timestamp": 1740802895514,
     "user": {
      "displayName": "KIMBERLY TRIPULCA",
      "userId": "06264182523271799652"
     },
     "user_tz": -480
    },
    "id": "MjrhuuYkhYce",
    "outputId": "0de0f995-9b01-488e-bcba-e7c8927881df"
   },
   "outputs": [
    {
     "name": "stdout",
     "output_type": "stream",
     "text": [
      "Total number of rows in 'TEXT' column across all files: 8805\n"
     ]
    }
   ],
   "source": [
    "import os\n",
    "import pandas as pd\n",
    "\n",
    "# Folder path containing your CSV files\n",
    "folder_path = \"/content/drive/MyDrive/TextClassification/Preproccessing/AfterAssigningTheThreeEmotionLabels\"\n",
    "\n",
    "# Initialize an empty list to store all processed data\n",
    "all_data = []\n",
    "\n",
    "# Initialize counter for rows in 'TEXT' column\n",
    "text_row_count = 0\n",
    "\n",
    "# Preprocessing function to clean text (same as in second approach)\n",
    "def preprocess_text(text):\n",
    "    # Lowercase text\n",
    "    text = text.lower()\n",
    "    # Remove punctuation, numbers, etc.\n",
    "    text = ''.join([char for char in text if char.isalpha() or char.isspace()])\n",
    "    return text\n",
    "\n",
    "# Loop over each file in the folder\n",
    "for filename in os.listdir(folder_path):\n",
    "    if filename.endswith('.csv'):\n",
    "        file_path = os.path.join(folder_path, filename)\n",
    "\n",
    "        # Load the dataset\n",
    "        df = pd.read_csv(file_path)\n",
    "\n",
    "        # Process each row in the current file\n",
    "        for index, row in df.iterrows():\n",
    "            # Assuming 'TEXT' column contains tokenized sentences (as list-like format)\n",
    "            sentences = eval(row['TEXT']) if pd.notna(row['TEXT']) else []\n",
    "            label = row['EMOTION']\n",
    "\n",
    "            # For each sentence, preprocess and append to all_data\n",
    "            for sentence in sentences:\n",
    "                # Only count non-empty sentences in the 'TEXT' column\n",
    "                if sentence.strip():  # Check if the sentence is not empty\n",
    "                    text_row_count += 1  # Increment the counter\n",
    "\n",
    "                # Apply text preprocessing\n",
    "                processed_sentence = preprocess_text(sentence)\n",
    "                all_data.append({'TEXT': processed_sentence, 'EMOTION': label})\n",
    "\n",
    "# Convert the processed data into a DataFrame\n",
    "final_df = pd.DataFrame(all_data)\n",
    "\n",
    "# Output the total count of rows in the 'TEXT' column across all files\n",
    "print(f\"Total number of rows in 'TEXT' column across all files: {text_row_count}\")\n"
   ]
  },
  {
   "cell_type": "code",
   "execution_count": null,
   "metadata": {
    "colab": {
     "base_uri": "https://localhost:8080/"
    },
    "executionInfo": {
     "elapsed": 790,
     "status": "ok",
     "timestamp": 1740802905473,
     "user": {
      "displayName": "KIMBERLY TRIPULCA",
      "userId": "06264182523271799652"
     },
     "user_tz": -480
    },
    "id": "7JmIFnp1jEsZ",
    "outputId": "d9832bd9-b725-497e-f47d-ad3c1d853d18"
   },
   "outputs": [
    {
     "name": "stdout",
     "output_type": "stream",
     "text": [
      "Total rows processed across all files: 1592\n",
      "Total rows in final_df: 1592\n"
     ]
    }
   ],
   "source": [
    "import os\n",
    "import pandas as pd\n",
    "\n",
    "# Folder path containing your CSV files\n",
    "folder_path = \"/content/drive/MyDrive/TextClassification/Preproccessing/AfterAssigningTheThreeEmotion\"\n",
    "\n",
    "# Initialize an empty list to store all processed data\n",
    "all_data = []\n",
    "\n",
    "# Preprocessing function to clean text\n",
    "def preprocess_text(text):\n",
    "    # Lowercase text\n",
    "    text = text.lower()\n",
    "    # Remove punctuation, numbers, etc.\n",
    "    text = ''.join([char for char in text if char.isalpha() or char.isspace()])\n",
    "    return text\n",
    "\n",
    "# Loop over each file in the folder\n",
    "for filename in os.listdir(folder_path):\n",
    "    if filename.endswith('.csv'):\n",
    "        file_path = os.path.join(folder_path, filename)\n",
    "\n",
    "        # Load the dataset\n",
    "        df = pd.read_csv(file_path)\n",
    "\n",
    "        # Process each row in the current file\n",
    "        for index, row in df.iterrows():\n",
    "            # Assuming 'TEXT' column contains a single word, not a list\n",
    "            word = row['TEXT'] if pd.notna(row['TEXT']) else \"\"\n",
    "            label = row['EMOTION']\n",
    "\n",
    "            # Apply text preprocessing\n",
    "            processed_word = preprocess_text(word)\n",
    "            all_data.append({'TEXT': processed_word, 'EMOTION': label})\n",
    "\n",
    "# Convert the processed data into a DataFrame\n",
    "final_df = pd.DataFrame(all_data)\n",
    "\n",
    "# Print the total number of rows processed and the final DataFrame's size\n",
    "print(f\"Total rows processed across all files: {len(all_data)}\")\n",
    "print(f\"Total rows in final_df: {len(final_df)}\")"
   ]
  },
  {
   "cell_type": "code",
   "execution_count": null,
   "metadata": {
    "colab": {
     "base_uri": "https://localhost:8080/"
    },
    "collapsed": true,
    "executionInfo": {
     "elapsed": 4228,
     "status": "ok",
     "timestamp": 1740800358113,
     "user": {
      "displayName": "KIMBERLY TRIPULCA",
      "userId": "06264182523271799652"
     },
     "user_tz": -480
    },
    "id": "zRI88yQGk50Q",
    "outputId": "a35e35f4-5d0a-40c4-cf43-fcd5f4fdddff"
   },
   "outputs": [
    {
     "name": "stdout",
     "output_type": "stream",
     "text": [
      "Requirement already satisfied: scikit-learn in /usr/local/lib/python3.11/dist-packages (1.6.1)\n",
      "Requirement already satisfied: numpy>=1.19.5 in /usr/local/lib/python3.11/dist-packages (from scikit-learn) (1.26.4)\n",
      "Requirement already satisfied: scipy>=1.6.0 in /usr/local/lib/python3.11/dist-packages (from scikit-learn) (1.13.1)\n",
      "Requirement already satisfied: joblib>=1.2.0 in /usr/local/lib/python3.11/dist-packages (from scikit-learn) (1.4.2)\n",
      "Requirement already satisfied: threadpoolctl>=3.1.0 in /usr/local/lib/python3.11/dist-packages (from scikit-learn) (3.5.0)\n"
     ]
    }
   ],
   "source": [
    "!pip install scikit-learn"
   ]
  },
  {
   "cell_type": "code",
   "execution_count": 21,
   "metadata": {
    "executionInfo": {
     "elapsed": 44,
     "status": "ok",
     "timestamp": 1740802916823,
     "user": {
      "displayName": "KIMBERLY TRIPULCA",
      "userId": "06264182523271799652"
     },
     "user_tz": -480
    },
    "id": "mglQwAehOaAl"
   },
   "outputs": [],
   "source": [
    "# Prepare data for training (Text and Labels)\n",
    "X = final_df['TEXT']  # Use a different variable name to avoid overwriting\n",
    "y = final_df['EMOTION']"
   ]
  },
  {
   "cell_type": "code",
   "execution_count": 2,
   "metadata": {
    "executionInfo": {
     "elapsed": 31,
     "status": "ok",
     "timestamp": 1740802919577,
     "user": {
      "displayName": "KIMBERLY TRIPULCA",
      "userId": "06264182523271799652"
     },
     "user_tz": -480
    },
    "id": "x7UAT75rO_hp"
   },
   "outputs": [],
   "source": [
    "# Preprocess the text data\n",
    "def preprocess_text(text):\n",
    "    # Lowercase text\n",
    "    text = text.lower()\n",
    "    # Remove punctuation, numbers, etc.\n",
    "    text = ''.join([char for char in text if char.isalpha() or char.isspace()])\n",
    "    return text\n",
    "\n",
    "# Apply preprocessing to the training text\n",
    "# X = X.apply(preprocess_text)"
   ]
  },
  {
   "cell_type": "code",
   "execution_count": 23,
   "metadata": {
    "colab": {
     "base_uri": "https://localhost:8080/"
    },
    "collapsed": true,
    "executionInfo": {
     "elapsed": 52,
     "status": "ok",
     "timestamp": 1740802922721,
     "user": {
      "displayName": "KIMBERLY TRIPULCA",
      "userId": "06264182523271799652"
     },
     "user_tz": -480
    },
    "id": "KzEafnTKlJ0r",
    "outputId": "2c0041fd-a8da-427d-a947-e37f7100bc7d"
   },
   "outputs": [
    {
     "name": "stdout",
     "output_type": "stream",
     "text": [
      "Number of unique features (terms) using Bag of Words: 6489\n"
     ]
    }
   ],
   "source": [
    "# Feature extraction using Bag of Words (BoW)\n",
    "from sklearn.feature_extraction.text import CountVectorizer # Import CountVectorizer from sklearn\n",
    "\n",
    "# Feature extraction using Bag of Words (BoW)\n",
    "bow_vectorizer = CountVectorizer(ngram_range=(1, 2))\n",
    "X_train_bow = bow_vectorizer.fit_transform(X)\n",
    "num_features_bow = len(bow_vectorizer.get_feature_names_out())\n",
    "print(f\"Number of unique features (terms) using Bag of Words: {num_features_bow}\")"
   ]
  },
  {
   "cell_type": "code",
   "execution_count": 24,
   "metadata": {
    "colab": {
     "base_uri": "https://localhost:8080/"
    },
    "executionInfo": {
     "elapsed": 45,
     "status": "ok",
     "timestamp": 1740802926876,
     "user": {
      "displayName": "KIMBERLY TRIPULCA",
      "userId": "06264182523271799652"
     },
     "user_tz": -480
    },
    "id": "Bd_yUTsAlkLl",
    "outputId": "8aa00710-010c-4a4c-f743-76f11263accc"
   },
   "outputs": [
    {
     "name": "stdout",
     "output_type": "stream",
     "text": [
      "Number of unique features (terms) using TF-IDF: 6489\n"
     ]
    }
   ],
   "source": [
    "# Feature extraction using TF-IDF\n",
    "from sklearn.feature_extraction.text import TfidfVectorizer # Import TfidfVectorizer from sklearn\n",
    "\n",
    "# Feature extraction using TF-IDF\n",
    "tfidf_vectorizer = TfidfVectorizer(ngram_range=(1, 2))\n",
    "X_tfidf = tfidf_vectorizer.fit_transform(X)  # Use a different variable name\n",
    "num_features_tfidf = len(tfidf_vectorizer.get_feature_names_out())\n",
    "print(f\"Number of unique features (terms) using TF-IDF: {num_features_tfidf}\")"
   ]
  },
  {
   "cell_type": "code",
   "execution_count": 25,
   "metadata": {
    "executionInfo": {
     "elapsed": 16,
     "status": "ok",
     "timestamp": 1740802929964,
     "user": {
      "displayName": "KIMBERLY TRIPULCA",
      "userId": "06264182523271799652"
     },
     "user_tz": -480
    },
    "id": "OVtOZbm4ky34"
   },
   "outputs": [],
   "source": [
    "# Split data into train and test sets\n",
    "from sklearn.model_selection import train_test_split # Import train_test_split\n",
    "\n",
    "X_train, X_test, y_train, y_test = train_test_split(X_tfidf, y, test_size=0.2, random_state=42)"
   ]
  },
  {
   "cell_type": "code",
   "execution_count": 26,
   "metadata": {
    "colab": {
     "base_uri": "https://localhost:8080/",
     "height": 81
    },
    "executionInfo": {
     "elapsed": 189,
     "status": "ok",
     "timestamp": 1740802931823,
     "user": {
      "displayName": "KIMBERLY TRIPULCA",
      "userId": "06264182523271799652"
     },
     "user_tz": -480
    },
    "id": "tAuykzhtluSz",
    "outputId": "796f17dc-c8f1-48e3-9dd0-85ad8490ee80"
   },
   "outputs": [
    {
     "data": {
      "text/html": [
       "<style>#sk-container-id-2 {\n",
       "  /* Definition of color scheme common for light and dark mode */\n",
       "  --sklearn-color-text: #000;\n",
       "  --sklearn-color-text-muted: #666;\n",
       "  --sklearn-color-line: gray;\n",
       "  /* Definition of color scheme for unfitted estimators */\n",
       "  --sklearn-color-unfitted-level-0: #fff5e6;\n",
       "  --sklearn-color-unfitted-level-1: #f6e4d2;\n",
       "  --sklearn-color-unfitted-level-2: #ffe0b3;\n",
       "  --sklearn-color-unfitted-level-3: chocolate;\n",
       "  /* Definition of color scheme for fitted estimators */\n",
       "  --sklearn-color-fitted-level-0: #f0f8ff;\n",
       "  --sklearn-color-fitted-level-1: #d4ebff;\n",
       "  --sklearn-color-fitted-level-2: #b3dbfd;\n",
       "  --sklearn-color-fitted-level-3: cornflowerblue;\n",
       "\n",
       "  /* Specific color for light theme */\n",
       "  --sklearn-color-text-on-default-background: var(--sg-text-color, var(--theme-code-foreground, var(--jp-content-font-color1, black)));\n",
       "  --sklearn-color-background: var(--sg-background-color, var(--theme-background, var(--jp-layout-color0, white)));\n",
       "  --sklearn-color-border-box: var(--sg-text-color, var(--theme-code-foreground, var(--jp-content-font-color1, black)));\n",
       "  --sklearn-color-icon: #696969;\n",
       "\n",
       "  @media (prefers-color-scheme: dark) {\n",
       "    /* Redefinition of color scheme for dark theme */\n",
       "    --sklearn-color-text-on-default-background: var(--sg-text-color, var(--theme-code-foreground, var(--jp-content-font-color1, white)));\n",
       "    --sklearn-color-background: var(--sg-background-color, var(--theme-background, var(--jp-layout-color0, #111)));\n",
       "    --sklearn-color-border-box: var(--sg-text-color, var(--theme-code-foreground, var(--jp-content-font-color1, white)));\n",
       "    --sklearn-color-icon: #878787;\n",
       "  }\n",
       "}\n",
       "\n",
       "#sk-container-id-2 {\n",
       "  color: var(--sklearn-color-text);\n",
       "}\n",
       "\n",
       "#sk-container-id-2 pre {\n",
       "  padding: 0;\n",
       "}\n",
       "\n",
       "#sk-container-id-2 input.sk-hidden--visually {\n",
       "  border: 0;\n",
       "  clip: rect(1px 1px 1px 1px);\n",
       "  clip: rect(1px, 1px, 1px, 1px);\n",
       "  height: 1px;\n",
       "  margin: -1px;\n",
       "  overflow: hidden;\n",
       "  padding: 0;\n",
       "  position: absolute;\n",
       "  width: 1px;\n",
       "}\n",
       "\n",
       "#sk-container-id-2 div.sk-dashed-wrapped {\n",
       "  border: 1px dashed var(--sklearn-color-line);\n",
       "  margin: 0 0.4em 0.5em 0.4em;\n",
       "  box-sizing: border-box;\n",
       "  padding-bottom: 0.4em;\n",
       "  background-color: var(--sklearn-color-background);\n",
       "}\n",
       "\n",
       "#sk-container-id-2 div.sk-container {\n",
       "  /* jupyter's `normalize.less` sets `[hidden] { display: none; }`\n",
       "     but bootstrap.min.css set `[hidden] { display: none !important; }`\n",
       "     so we also need the `!important` here to be able to override the\n",
       "     default hidden behavior on the sphinx rendered scikit-learn.org.\n",
       "     See: https://github.com/scikit-learn/scikit-learn/issues/21755 */\n",
       "  display: inline-block !important;\n",
       "  position: relative;\n",
       "}\n",
       "\n",
       "#sk-container-id-2 div.sk-text-repr-fallback {\n",
       "  display: none;\n",
       "}\n",
       "\n",
       "div.sk-parallel-item,\n",
       "div.sk-serial,\n",
       "div.sk-item {\n",
       "  /* draw centered vertical line to link estimators */\n",
       "  background-image: linear-gradient(var(--sklearn-color-text-on-default-background), var(--sklearn-color-text-on-default-background));\n",
       "  background-size: 2px 100%;\n",
       "  background-repeat: no-repeat;\n",
       "  background-position: center center;\n",
       "}\n",
       "\n",
       "/* Parallel-specific style estimator block */\n",
       "\n",
       "#sk-container-id-2 div.sk-parallel-item::after {\n",
       "  content: \"\";\n",
       "  width: 100%;\n",
       "  border-bottom: 2px solid var(--sklearn-color-text-on-default-background);\n",
       "  flex-grow: 1;\n",
       "}\n",
       "\n",
       "#sk-container-id-2 div.sk-parallel {\n",
       "  display: flex;\n",
       "  align-items: stretch;\n",
       "  justify-content: center;\n",
       "  background-color: var(--sklearn-color-background);\n",
       "  position: relative;\n",
       "}\n",
       "\n",
       "#sk-container-id-2 div.sk-parallel-item {\n",
       "  display: flex;\n",
       "  flex-direction: column;\n",
       "}\n",
       "\n",
       "#sk-container-id-2 div.sk-parallel-item:first-child::after {\n",
       "  align-self: flex-end;\n",
       "  width: 50%;\n",
       "}\n",
       "\n",
       "#sk-container-id-2 div.sk-parallel-item:last-child::after {\n",
       "  align-self: flex-start;\n",
       "  width: 50%;\n",
       "}\n",
       "\n",
       "#sk-container-id-2 div.sk-parallel-item:only-child::after {\n",
       "  width: 0;\n",
       "}\n",
       "\n",
       "/* Serial-specific style estimator block */\n",
       "\n",
       "#sk-container-id-2 div.sk-serial {\n",
       "  display: flex;\n",
       "  flex-direction: column;\n",
       "  align-items: center;\n",
       "  background-color: var(--sklearn-color-background);\n",
       "  padding-right: 1em;\n",
       "  padding-left: 1em;\n",
       "}\n",
       "\n",
       "\n",
       "/* Toggleable style: style used for estimator/Pipeline/ColumnTransformer box that is\n",
       "clickable and can be expanded/collapsed.\n",
       "- Pipeline and ColumnTransformer use this feature and define the default style\n",
       "- Estimators will overwrite some part of the style using the `sk-estimator` class\n",
       "*/\n",
       "\n",
       "/* Pipeline and ColumnTransformer style (default) */\n",
       "\n",
       "#sk-container-id-2 div.sk-toggleable {\n",
       "  /* Default theme specific background. It is overwritten whether we have a\n",
       "  specific estimator or a Pipeline/ColumnTransformer */\n",
       "  background-color: var(--sklearn-color-background);\n",
       "}\n",
       "\n",
       "/* Toggleable label */\n",
       "#sk-container-id-2 label.sk-toggleable__label {\n",
       "  cursor: pointer;\n",
       "  display: flex;\n",
       "  width: 100%;\n",
       "  margin-bottom: 0;\n",
       "  padding: 0.5em;\n",
       "  box-sizing: border-box;\n",
       "  text-align: center;\n",
       "  align-items: start;\n",
       "  justify-content: space-between;\n",
       "  gap: 0.5em;\n",
       "}\n",
       "\n",
       "#sk-container-id-2 label.sk-toggleable__label .caption {\n",
       "  font-size: 0.6rem;\n",
       "  font-weight: lighter;\n",
       "  color: var(--sklearn-color-text-muted);\n",
       "}\n",
       "\n",
       "#sk-container-id-2 label.sk-toggleable__label-arrow:before {\n",
       "  /* Arrow on the left of the label */\n",
       "  content: \"▸\";\n",
       "  float: left;\n",
       "  margin-right: 0.25em;\n",
       "  color: var(--sklearn-color-icon);\n",
       "}\n",
       "\n",
       "#sk-container-id-2 label.sk-toggleable__label-arrow:hover:before {\n",
       "  color: var(--sklearn-color-text);\n",
       "}\n",
       "\n",
       "/* Toggleable content - dropdown */\n",
       "\n",
       "#sk-container-id-2 div.sk-toggleable__content {\n",
       "  max-height: 0;\n",
       "  max-width: 0;\n",
       "  overflow: hidden;\n",
       "  text-align: left;\n",
       "  /* unfitted */\n",
       "  background-color: var(--sklearn-color-unfitted-level-0);\n",
       "}\n",
       "\n",
       "#sk-container-id-2 div.sk-toggleable__content.fitted {\n",
       "  /* fitted */\n",
       "  background-color: var(--sklearn-color-fitted-level-0);\n",
       "}\n",
       "\n",
       "#sk-container-id-2 div.sk-toggleable__content pre {\n",
       "  margin: 0.2em;\n",
       "  border-radius: 0.25em;\n",
       "  color: var(--sklearn-color-text);\n",
       "  /* unfitted */\n",
       "  background-color: var(--sklearn-color-unfitted-level-0);\n",
       "}\n",
       "\n",
       "#sk-container-id-2 div.sk-toggleable__content.fitted pre {\n",
       "  /* unfitted */\n",
       "  background-color: var(--sklearn-color-fitted-level-0);\n",
       "}\n",
       "\n",
       "#sk-container-id-2 input.sk-toggleable__control:checked~div.sk-toggleable__content {\n",
       "  /* Expand drop-down */\n",
       "  max-height: 200px;\n",
       "  max-width: 100%;\n",
       "  overflow: auto;\n",
       "}\n",
       "\n",
       "#sk-container-id-2 input.sk-toggleable__control:checked~label.sk-toggleable__label-arrow:before {\n",
       "  content: \"▾\";\n",
       "}\n",
       "\n",
       "/* Pipeline/ColumnTransformer-specific style */\n",
       "\n",
       "#sk-container-id-2 div.sk-label input.sk-toggleable__control:checked~label.sk-toggleable__label {\n",
       "  color: var(--sklearn-color-text);\n",
       "  background-color: var(--sklearn-color-unfitted-level-2);\n",
       "}\n",
       "\n",
       "#sk-container-id-2 div.sk-label.fitted input.sk-toggleable__control:checked~label.sk-toggleable__label {\n",
       "  background-color: var(--sklearn-color-fitted-level-2);\n",
       "}\n",
       "\n",
       "/* Estimator-specific style */\n",
       "\n",
       "/* Colorize estimator box */\n",
       "#sk-container-id-2 div.sk-estimator input.sk-toggleable__control:checked~label.sk-toggleable__label {\n",
       "  /* unfitted */\n",
       "  background-color: var(--sklearn-color-unfitted-level-2);\n",
       "}\n",
       "\n",
       "#sk-container-id-2 div.sk-estimator.fitted input.sk-toggleable__control:checked~label.sk-toggleable__label {\n",
       "  /* fitted */\n",
       "  background-color: var(--sklearn-color-fitted-level-2);\n",
       "}\n",
       "\n",
       "#sk-container-id-2 div.sk-label label.sk-toggleable__label,\n",
       "#sk-container-id-2 div.sk-label label {\n",
       "  /* The background is the default theme color */\n",
       "  color: var(--sklearn-color-text-on-default-background);\n",
       "}\n",
       "\n",
       "/* On hover, darken the color of the background */\n",
       "#sk-container-id-2 div.sk-label:hover label.sk-toggleable__label {\n",
       "  color: var(--sklearn-color-text);\n",
       "  background-color: var(--sklearn-color-unfitted-level-2);\n",
       "}\n",
       "\n",
       "/* Label box, darken color on hover, fitted */\n",
       "#sk-container-id-2 div.sk-label.fitted:hover label.sk-toggleable__label.fitted {\n",
       "  color: var(--sklearn-color-text);\n",
       "  background-color: var(--sklearn-color-fitted-level-2);\n",
       "}\n",
       "\n",
       "/* Estimator label */\n",
       "\n",
       "#sk-container-id-2 div.sk-label label {\n",
       "  font-family: monospace;\n",
       "  font-weight: bold;\n",
       "  display: inline-block;\n",
       "  line-height: 1.2em;\n",
       "}\n",
       "\n",
       "#sk-container-id-2 div.sk-label-container {\n",
       "  text-align: center;\n",
       "}\n",
       "\n",
       "/* Estimator-specific */\n",
       "#sk-container-id-2 div.sk-estimator {\n",
       "  font-family: monospace;\n",
       "  border: 1px dotted var(--sklearn-color-border-box);\n",
       "  border-radius: 0.25em;\n",
       "  box-sizing: border-box;\n",
       "  margin-bottom: 0.5em;\n",
       "  /* unfitted */\n",
       "  background-color: var(--sklearn-color-unfitted-level-0);\n",
       "}\n",
       "\n",
       "#sk-container-id-2 div.sk-estimator.fitted {\n",
       "  /* fitted */\n",
       "  background-color: var(--sklearn-color-fitted-level-0);\n",
       "}\n",
       "\n",
       "/* on hover */\n",
       "#sk-container-id-2 div.sk-estimator:hover {\n",
       "  /* unfitted */\n",
       "  background-color: var(--sklearn-color-unfitted-level-2);\n",
       "}\n",
       "\n",
       "#sk-container-id-2 div.sk-estimator.fitted:hover {\n",
       "  /* fitted */\n",
       "  background-color: var(--sklearn-color-fitted-level-2);\n",
       "}\n",
       "\n",
       "/* Specification for estimator info (e.g. \"i\" and \"?\") */\n",
       "\n",
       "/* Common style for \"i\" and \"?\" */\n",
       "\n",
       ".sk-estimator-doc-link,\n",
       "a:link.sk-estimator-doc-link,\n",
       "a:visited.sk-estimator-doc-link {\n",
       "  float: right;\n",
       "  font-size: smaller;\n",
       "  line-height: 1em;\n",
       "  font-family: monospace;\n",
       "  background-color: var(--sklearn-color-background);\n",
       "  border-radius: 1em;\n",
       "  height: 1em;\n",
       "  width: 1em;\n",
       "  text-decoration: none !important;\n",
       "  margin-left: 0.5em;\n",
       "  text-align: center;\n",
       "  /* unfitted */\n",
       "  border: var(--sklearn-color-unfitted-level-1) 1pt solid;\n",
       "  color: var(--sklearn-color-unfitted-level-1);\n",
       "}\n",
       "\n",
       ".sk-estimator-doc-link.fitted,\n",
       "a:link.sk-estimator-doc-link.fitted,\n",
       "a:visited.sk-estimator-doc-link.fitted {\n",
       "  /* fitted */\n",
       "  border: var(--sklearn-color-fitted-level-1) 1pt solid;\n",
       "  color: var(--sklearn-color-fitted-level-1);\n",
       "}\n",
       "\n",
       "/* On hover */\n",
       "div.sk-estimator:hover .sk-estimator-doc-link:hover,\n",
       ".sk-estimator-doc-link:hover,\n",
       "div.sk-label-container:hover .sk-estimator-doc-link:hover,\n",
       ".sk-estimator-doc-link:hover {\n",
       "  /* unfitted */\n",
       "  background-color: var(--sklearn-color-unfitted-level-3);\n",
       "  color: var(--sklearn-color-background);\n",
       "  text-decoration: none;\n",
       "}\n",
       "\n",
       "div.sk-estimator.fitted:hover .sk-estimator-doc-link.fitted:hover,\n",
       ".sk-estimator-doc-link.fitted:hover,\n",
       "div.sk-label-container:hover .sk-estimator-doc-link.fitted:hover,\n",
       ".sk-estimator-doc-link.fitted:hover {\n",
       "  /* fitted */\n",
       "  background-color: var(--sklearn-color-fitted-level-3);\n",
       "  color: var(--sklearn-color-background);\n",
       "  text-decoration: none;\n",
       "}\n",
       "\n",
       "/* Span, style for the box shown on hovering the info icon */\n",
       ".sk-estimator-doc-link span {\n",
       "  display: none;\n",
       "  z-index: 9999;\n",
       "  position: relative;\n",
       "  font-weight: normal;\n",
       "  right: .2ex;\n",
       "  padding: .5ex;\n",
       "  margin: .5ex;\n",
       "  width: min-content;\n",
       "  min-width: 20ex;\n",
       "  max-width: 50ex;\n",
       "  color: var(--sklearn-color-text);\n",
       "  box-shadow: 2pt 2pt 4pt #999;\n",
       "  /* unfitted */\n",
       "  background: var(--sklearn-color-unfitted-level-0);\n",
       "  border: .5pt solid var(--sklearn-color-unfitted-level-3);\n",
       "}\n",
       "\n",
       ".sk-estimator-doc-link.fitted span {\n",
       "  /* fitted */\n",
       "  background: var(--sklearn-color-fitted-level-0);\n",
       "  border: var(--sklearn-color-fitted-level-3);\n",
       "}\n",
       "\n",
       ".sk-estimator-doc-link:hover span {\n",
       "  display: block;\n",
       "}\n",
       "\n",
       "/* \"?\"-specific style due to the `<a>` HTML tag */\n",
       "\n",
       "#sk-container-id-2 a.estimator_doc_link {\n",
       "  float: right;\n",
       "  font-size: 1rem;\n",
       "  line-height: 1em;\n",
       "  font-family: monospace;\n",
       "  background-color: var(--sklearn-color-background);\n",
       "  border-radius: 1rem;\n",
       "  height: 1rem;\n",
       "  width: 1rem;\n",
       "  text-decoration: none;\n",
       "  /* unfitted */\n",
       "  color: var(--sklearn-color-unfitted-level-1);\n",
       "  border: var(--sklearn-color-unfitted-level-1) 1pt solid;\n",
       "}\n",
       "\n",
       "#sk-container-id-2 a.estimator_doc_link.fitted {\n",
       "  /* fitted */\n",
       "  border: var(--sklearn-color-fitted-level-1) 1pt solid;\n",
       "  color: var(--sklearn-color-fitted-level-1);\n",
       "}\n",
       "\n",
       "/* On hover */\n",
       "#sk-container-id-2 a.estimator_doc_link:hover {\n",
       "  /* unfitted */\n",
       "  background-color: var(--sklearn-color-unfitted-level-3);\n",
       "  color: var(--sklearn-color-background);\n",
       "  text-decoration: none;\n",
       "}\n",
       "\n",
       "#sk-container-id-2 a.estimator_doc_link.fitted:hover {\n",
       "  /* fitted */\n",
       "  background-color: var(--sklearn-color-fitted-level-3);\n",
       "}\n",
       "</style><div id=\"sk-container-id-2\" class=\"sk-top-container\"><div class=\"sk-text-repr-fallback\"><pre>MultinomialNB()</pre><b>In a Jupyter environment, please rerun this cell to show the HTML representation or trust the notebook. <br />On GitHub, the HTML representation is unable to render, please try loading this page with nbviewer.org.</b></div><div class=\"sk-container\" hidden><div class=\"sk-item\"><div class=\"sk-estimator fitted sk-toggleable\"><input class=\"sk-toggleable__control sk-hidden--visually\" id=\"sk-estimator-id-2\" type=\"checkbox\" checked><label for=\"sk-estimator-id-2\" class=\"sk-toggleable__label fitted sk-toggleable__label-arrow\"><div><div>MultinomialNB</div></div><div><a class=\"sk-estimator-doc-link fitted\" rel=\"noreferrer\" target=\"_blank\" href=\"https://scikit-learn.org/1.6/modules/generated/sklearn.naive_bayes.MultinomialNB.html\">?<span>Documentation for MultinomialNB</span></a><span class=\"sk-estimator-doc-link fitted\">i<span>Fitted</span></span></div></label><div class=\"sk-toggleable__content fitted\"><pre>MultinomialNB()</pre></div> </div></div></div></div>"
      ],
      "text/plain": [
       "MultinomialNB()"
      ]
     },
     "execution_count": 26,
     "metadata": {},
     "output_type": "execute_result"
    }
   ],
   "source": [
    "# Import the necessary class from scikit-learn\n",
    "from sklearn.naive_bayes import MultinomialNB\n",
    "\n",
    "# Train Naive Bayes model\n",
    "nb_model = MultinomialNB()\n",
    "# Now use X_train_tfidf, which is aligned with y_train\n",
    "nb_model.fit(X_tfidf, y)"
   ]
  },
  {
   "cell_type": "code",
   "execution_count": 27,
   "metadata": {
    "colab": {
     "base_uri": "https://localhost:8080/"
    },
    "collapsed": true,
    "executionInfo": {
     "elapsed": 45,
     "status": "ok",
     "timestamp": 1740802934864,
     "user": {
      "displayName": "KIMBERLY TRIPULCA",
      "userId": "06264182523271799652"
     },
     "user_tz": -480
    },
    "id": "t1LzXQ2Ul6AT",
    "outputId": "c10452e5-788f-48f7-a8cb-a6d200b456fa"
   },
   "outputs": [
    {
     "name": "stdout",
     "output_type": "stream",
     "text": [
      "Accuracy: 0.7837\n",
      "\n",
      "Classification Report:\n",
      "              precision    recall  f1-score   support\n",
      "\n",
      "         neg       0.69      0.99      0.81       146\n",
      "         neu       0.97      0.52      0.68        75\n",
      "         pos       0.97      0.67      0.80        98\n",
      "\n",
      "    accuracy                           0.78       319\n",
      "   macro avg       0.88      0.73      0.76       319\n",
      "weighted avg       0.84      0.78      0.78       319\n",
      "\n",
      "\n",
      "Confusion Matrix:\n",
      "[[145   0   1]\n",
      " [ 35  39   1]\n",
      " [ 31   1  66]]\n"
     ]
    }
   ],
   "source": [
    "# Evaluate Naive Bayes model\n",
    "from sklearn.metrics import accuracy_score, classification_report, confusion_matrix # Import necessary functions\n",
    "\n",
    "# Evaluate Naive Bayes model\n",
    "# Use X_test_tfidf for prediction, as the model is trained on TF-IDF features\n",
    "y_pred = nb_model.predict(X_test)\n",
    "accuracy = accuracy_score(y_test, y_pred)\n",
    "print(f\"Accuracy: {accuracy:.4f}\")\n",
    "print(\"\\nClassification Report:\")\n",
    "print(classification_report(y_test, y_pred))\n",
    "print(\"\\nConfusion Matrix:\")\n",
    "print(confusion_matrix(y_test, y_pred))"
   ]
  },
  {
   "cell_type": "code",
   "execution_count": 28,
   "metadata": {
    "colab": {
     "base_uri": "https://localhost:8080/"
    },
    "executionInfo": {
     "elapsed": 2468,
     "status": "ok",
     "timestamp": 1740802945456,
     "user": {
      "displayName": "KIMBERLY TRIPULCA",
      "userId": "06264182523271799652"
     },
     "user_tz": -480
    },
    "id": "sipF_oqZsKoT",
    "outputId": "a047bd2e-e5cd-4041-a1bf-34829efb5227"
   },
   "outputs": [
    {
     "name": "stdout",
     "output_type": "stream",
     "text": [
      "Fitting 5 folds for each of 8 candidates, totalling 40 fits\n",
      "Best parameters found:  {'alpha': 0.5, 'fit_prior': True}\n"
     ]
    }
   ],
   "source": [
    "# Apply GridSearchCV for hyperparameter tuning\n",
    "from sklearn.model_selection import GridSearchCV # Import GridSearchCV\n",
    "\n",
    "# Hyperparameter tuning using GridSearchCV\n",
    "param_grid = {'alpha': [0.1, 0.5, 1.0, 2.0], 'fit_prior': [True, False]}\n",
    "grid_search = GridSearchCV(nb_model, param_grid, cv=5, n_jobs=-1, verbose=1)\n",
    "# Fit using the transformed training data (X_train_tfidf)\n",
    "grid_search.fit(X_tfidf, y)  # Changed line to use X_train_tfidf\n",
    "print(\"Best parameters found: \", grid_search.best_params_)"
   ]
  },
  {
   "cell_type": "code",
   "execution_count": 29,
   "metadata": {
    "colab": {
     "base_uri": "https://localhost:8080/"
    },
    "collapsed": true,
    "executionInfo": {
     "elapsed": 178,
     "status": "ok",
     "timestamp": 1740802947944,
     "user": {
      "displayName": "KIMBERLY TRIPULCA",
      "userId": "06264182523271799652"
     },
     "user_tz": -480
    },
    "id": "pk82eFWqCF1-",
    "outputId": "a1ad3a90-ea78-407d-ed78-dca47c4cb49a"
   },
   "outputs": [
    {
     "name": "stdout",
     "output_type": "stream",
     "text": [
      "Accuracy with best parameters: 0.8621\n",
      "\n",
      "Classification Report for Best Model:\n",
      "              precision    recall  f1-score   support\n",
      "\n",
      "         neg       0.79      0.99      0.88       146\n",
      "         neu       0.98      0.72      0.83        75\n",
      "         pos       0.95      0.79      0.86        98\n",
      "\n",
      "    accuracy                           0.86       319\n",
      "   macro avg       0.91      0.83      0.86       319\n",
      "weighted avg       0.88      0.86      0.86       319\n",
      "\n",
      "\n",
      "Confusion Matrix for Best Model:\n",
      "[[144   0   2]\n",
      " [ 19  54   2]\n",
      " [ 20   1  77]]\n"
     ]
    }
   ],
   "source": [
    "# Use the best model from grid search for final evaluation\n",
    "best_model = grid_search.best_estimator_\n",
    "\n",
    "# Predict using the best model - X_test is already transformed\n",
    "y_pred_best = best_model.predict(X_test)\n",
    "\n",
    "# Evaluate the best model\n",
    "accuracy_best = accuracy_score(y_test, y_pred_best)\n",
    "print(f\"Accuracy with best parameters: {accuracy_best:.4f}\")\n",
    "print(\"\\nClassification Report for Best Model:\")\n",
    "print(classification_report(y_test, y_pred_best))\n",
    "print(\"\\nConfusion Matrix for Best Model:\")\n",
    "print(confusion_matrix(y_test, y_pred_best))"
   ]
  },
  {
   "cell_type": "code",
   "execution_count": 30,
   "metadata": {
    "colab": {
     "base_uri": "https://localhost:8080/"
    },
    "executionInfo": {
     "elapsed": 99,
     "status": "ok",
     "timestamp": 1740802954112,
     "user": {
      "displayName": "KIMBERLY TRIPULCA",
      "userId": "06264182523271799652"
     },
     "user_tz": -480
    },
    "id": "Ge66rNVSXhyb",
    "outputId": "457277f9-ffb0-4cd5-bd32-8095f0510345"
   },
   "outputs": [
    {
     "name": "stdout",
     "output_type": "stream",
     "text": [
      "Model and vectorizer have been saved to the respective paths.\n"
     ]
    }
   ],
   "source": [
    "# Import the joblib library\n",
    "import joblib\n",
    "\n",
    "# Save the model and vectorizer\n",
    "joblib.dump(best_model, \"/content/drive/MyDrive/TextClassification/Model/best_model.pkl\")\n",
    "joblib.dump(tfidf_vectorizer, \"/content/drive/MyDrive/TextClassification/Model/tfidf_vectorizer.pkl\")\n",
    "print(f\"Model and vectorizer have been saved to the respective paths.\")"
   ]
  },
  {
   "cell_type": "code",
   "execution_count": 31,
   "metadata": {
    "executionInfo": {
     "elapsed": 26,
     "status": "ok",
     "timestamp": 1740802961018,
     "user": {
      "displayName": "KIMBERLY TRIPULCA",
      "userId": "06264182523271799652"
     },
     "user_tz": -480
    },
    "id": "_jSSRYHwaYut"
   },
   "outputs": [],
   "source": [
    "# Load the model and vectorizer (for later predictions)\n",
    "loaded_model = joblib.load(\"/content/drive/MyDrive/TextClassification/Model/best_model.pkl\")\n",
    "loaded_vectorizer = joblib.load(\"/content/drive/MyDrive/TextClassification/Model/tfidf_vectorizer.pkl\")"
   ]
  },
  {
   "cell_type": "code",
   "execution_count": 10,
   "metadata": {
    "colab": {
     "base_uri": "https://localhost:8080/"
    },
    "executionInfo": {
     "elapsed": 33,
     "status": "ok",
     "timestamp": 1740802963613,
     "user": {
      "displayName": "KIMBERLY TRIPULCA",
      "userId": "06264182523271799652"
     },
     "user_tz": -480
    },
    "id": "pBRykfXGbBTs",
    "outputId": "57990215-de76-4340-cfb5-f80efecb290e"
   },
   "outputs": [
    {
     "name": "stdout",
     "output_type": "stream",
     "text": [
      "['neg']\n",
      "[0.67687668 0.16704448 0.15607884]\n"
     ]
    }
   ],
   "source": [
    "# Load the saved model and vectorizer\n",
    "import joblib\n",
    "loaded_model = joblib.load(\"Model/best_model.pkl\")\n",
    "loaded_vectorizer = joblib.load(\"Model/tfidf_vectorizer.pkl\")\n",
    "\n",
    "# Predict on new data\n",
    "pos_data = [\"The sun warmed my face as I watched the children play, their laughter filling the air like a sweet melody.\"]\n",
    "neg_data = [\"I looked at the task ahead of me, the pieces scattered everywhere, and I could feel the weight of every minute slipping away with no progress.\"]\n",
    "new_data = [\"The sun warmed my face as I watched the children play, their laughter filling the air like a sweet melody.\", \"I couldn’t believe what I was hearing; every word seemed to hit harder than the last, making my pulse race with a tight knot in my chest.\", \"I looked at the task ahead of me, the pieces scattered everywhere, and I could feel the weight of every minute slipping away with no progress.\", \"I could barely sit still, my mind racing with all the possibilities, as the anticipation built up with each passing moment.\"]\n",
    "\n",
    "# Preprocess the new data (text)\n",
    "# new_data_processed = [preprocess_text(text) for text in new_data]\n",
    "new_data_processed =  [preprocess_text(text) for text in neg_data]\n",
    "\n",
    "# Transform the new data using the loaded vectorizer\n",
    "X_new_tfidf = loaded_vectorizer.transform(new_data_processed)\n",
    "\n",
    "# Make predictions using the loaded model\n",
    "new_predictions = loaded_model.predict(X_new_tfidf)\n",
    "\n",
    "nb_probabilities = loaded_model.predict_proba(X_new_tfidf)[0]  # (num_classes,)\n",
    "# Print the predictions\n",
    "print(new_predictions)\n",
    "print(nb_probabilities)"
   ]
  }
 ],
 "metadata": {
  "colab": {
   "authorship_tag": "ABX9TyNtJoIGIjuVKFmongd6Ellw",
   "provenance": []
  },
  "kernelspec": {
   "display_name": "Python 3",
   "language": "python",
   "name": "python3"
  },
  "language_info": {
   "codemirror_mode": {
    "name": "ipython",
    "version": 3
   },
   "file_extension": ".py",
   "mimetype": "text/x-python",
   "name": "python",
   "nbconvert_exporter": "python",
   "pygments_lexer": "ipython3",
   "version": "3.12.5"
  }
 },
 "nbformat": 4,
 "nbformat_minor": 0
}
